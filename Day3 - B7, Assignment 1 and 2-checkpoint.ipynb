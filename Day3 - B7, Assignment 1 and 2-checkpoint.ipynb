{
 "cells": [
  {
   "cell_type": "markdown",
   "metadata": {},
   "source": [
    "# Assignment 1"
   ]
  },
  {
   "cell_type": "markdown",
   "metadata": {},
   "source": [
    "# You are pilots, \"you have to land a plane\", the altitude required for landing a plane is 1000ft, if it is les s than that tell pilot to land the plane, or it is more than that but less than 5000ft ask the pilot to \"come down to 1000ft\",else if it is more than 5000ft ask the pilot to \"go around and try later\""
   ]
  },
  {
   "cell_type": "code",
   "execution_count": 2,
   "metadata": {},
   "outputs": [],
   "source": [
    "altitude = 1000"
   ]
  },
  {
   "cell_type": "code",
   "execution_count": 6,
   "metadata": {},
   "outputs": [
    {
     "name": "stdout",
     "output_type": "stream",
     "text": [
      "You have to land plane\n"
     ]
    }
   ],
   "source": [
    "if altitude >= 5000:\n",
    "    print(\"Bring down to 1000\")\n",
    "elif altitude > 5000 :\n",
    "    print(\"Go around and try later\")\n",
    "else:\n",
    "    print(\"You have to land plane\")\n",
    "    \n",
    "    "
   ]
  },
  {
   "cell_type": "code",
   "execution_count": 5,
   "metadata": {},
   "outputs": [],
   "source": [
    "altitude1 = 4500"
   ]
  },
  {
   "cell_type": "code",
   "execution_count": 14,
   "metadata": {},
   "outputs": [
    {
     "name": "stdout",
     "output_type": "stream",
     "text": [
      "Bring down to 1000\n"
     ]
    }
   ],
   "source": [
    "if altitude1 <= 5000:\n",
    "    print(\"Bring down to 1000\")\n",
    "elif altitude1 > 5000:\n",
    "    print(\"Go around and try later\")\n",
    "else:\n",
    "    print(\"You have to land plane\")"
   ]
  },
  {
   "cell_type": "code",
   "execution_count": 11,
   "metadata": {},
   "outputs": [],
   "source": [
    "altitude2 = 6500"
   ]
  },
  {
   "cell_type": "code",
   "execution_count": 15,
   "metadata": {},
   "outputs": [
    {
     "name": "stdout",
     "output_type": "stream",
     "text": [
      "Go around and try later\n"
     ]
    }
   ],
   "source": [
    "if altitude2 <= 5000:\n",
    "    print(\"Bring down to 1000\")\n",
    "elif altitude2 > 5000:\n",
    "    print(\"Go around and try later\")\n",
    "else:\n",
    "    print(\"You have to land plane\")"
   ]
  },
  {
   "cell_type": "markdown",
   "metadata": {},
   "source": [
    "# Assignment 2"
   ]
  },
  {
   "cell_type": "markdown",
   "metadata": {},
   "source": [
    "# Using for loop please print all the Prime numebers between (1-200) using FOR LOOP AND RANGE function "
   ]
  },
  {
   "cell_type": "code",
   "execution_count": 16,
   "metadata": {},
   "outputs": [],
   "source": [
    "numberlist = range(1,200)"
   ]
  },
  {
   "cell_type": "code",
   "execution_count": 17,
   "metadata": {},
   "outputs": [
    {
     "data": {
      "text/plain": [
       "range(1, 200)"
      ]
     },
     "execution_count": 17,
     "metadata": {},
     "output_type": "execute_result"
    }
   ],
   "source": [
    "numberlist"
   ]
  },
  {
   "cell_type": "code",
   "execution_count": 38,
   "metadata": {},
   "outputs": [
    {
     "name": "stdout",
     "output_type": "stream",
     "text": [
      "1\n",
      "Prime numbers\n",
      "3\n",
      "Prime numbers\n",
      "5\n",
      "Prime numbers\n",
      "7\n",
      "Prime numbers\n",
      "9\n",
      "Prime numbers\n",
      "11\n",
      "Prime numbers\n",
      "13\n",
      "Prime numbers\n",
      "15\n",
      "Prime numbers\n",
      "17\n",
      "Prime numbers\n",
      "19\n",
      "Prime numbers\n",
      "21\n",
      "Prime numbers\n",
      "23\n",
      "Prime numbers\n",
      "25\n",
      "Prime numbers\n",
      "27\n",
      "Prime numbers\n",
      "29\n",
      "Prime numbers\n",
      "31\n",
      "Prime numbers\n",
      "33\n",
      "Prime numbers\n",
      "35\n",
      "Prime numbers\n",
      "37\n",
      "Prime numbers\n",
      "39\n",
      "Prime numbers\n",
      "41\n",
      "Prime numbers\n",
      "43\n",
      "Prime numbers\n",
      "45\n",
      "Prime numbers\n",
      "47\n",
      "Prime numbers\n",
      "49\n",
      "Prime numbers\n",
      "51\n",
      "Prime numbers\n",
      "53\n",
      "Prime numbers\n",
      "55\n",
      "Prime numbers\n",
      "57\n",
      "Prime numbers\n",
      "59\n",
      "Prime numbers\n",
      "61\n",
      "Prime numbers\n",
      "63\n",
      "Prime numbers\n",
      "65\n",
      "Prime numbers\n",
      "67\n",
      "Prime numbers\n",
      "69\n",
      "Prime numbers\n",
      "71\n",
      "Prime numbers\n",
      "73\n",
      "Prime numbers\n",
      "75\n",
      "Prime numbers\n",
      "77\n",
      "Prime numbers\n",
      "79\n",
      "Prime numbers\n",
      "81\n",
      "Prime numbers\n",
      "83\n",
      "Prime numbers\n",
      "85\n",
      "Prime numbers\n",
      "87\n",
      "Prime numbers\n",
      "89\n",
      "Prime numbers\n",
      "91\n",
      "Prime numbers\n",
      "93\n",
      "Prime numbers\n",
      "95\n",
      "Prime numbers\n",
      "97\n",
      "Prime numbers\n",
      "99\n",
      "Prime numbers\n",
      "101\n",
      "Prime numbers\n",
      "103\n",
      "Prime numbers\n",
      "105\n",
      "Prime numbers\n",
      "107\n",
      "Prime numbers\n",
      "109\n",
      "Prime numbers\n",
      "111\n",
      "Prime numbers\n",
      "113\n",
      "Prime numbers\n",
      "115\n",
      "Prime numbers\n",
      "117\n",
      "Prime numbers\n",
      "119\n",
      "Prime numbers\n",
      "121\n",
      "Prime numbers\n",
      "123\n",
      "Prime numbers\n",
      "125\n",
      "Prime numbers\n",
      "127\n",
      "Prime numbers\n",
      "129\n",
      "Prime numbers\n",
      "131\n",
      "Prime numbers\n",
      "133\n",
      "Prime numbers\n",
      "135\n",
      "Prime numbers\n",
      "137\n",
      "Prime numbers\n",
      "139\n",
      "Prime numbers\n",
      "141\n",
      "Prime numbers\n",
      "143\n",
      "Prime numbers\n",
      "145\n",
      "Prime numbers\n",
      "147\n",
      "Prime numbers\n",
      "149\n",
      "Prime numbers\n",
      "151\n",
      "Prime numbers\n",
      "153\n",
      "Prime numbers\n",
      "155\n",
      "Prime numbers\n",
      "157\n",
      "Prime numbers\n",
      "159\n",
      "Prime numbers\n",
      "161\n",
      "Prime numbers\n",
      "163\n",
      "Prime numbers\n",
      "165\n",
      "Prime numbers\n",
      "167\n",
      "Prime numbers\n",
      "169\n",
      "Prime numbers\n",
      "171\n",
      "Prime numbers\n",
      "173\n",
      "Prime numbers\n",
      "175\n",
      "Prime numbers\n",
      "177\n",
      "Prime numbers\n",
      "179\n",
      "Prime numbers\n",
      "181\n",
      "Prime numbers\n",
      "183\n",
      "Prime numbers\n",
      "185\n",
      "Prime numbers\n",
      "187\n",
      "Prime numbers\n",
      "189\n",
      "Prime numbers\n",
      "191\n",
      "Prime numbers\n",
      "193\n",
      "Prime numbers\n",
      "195\n",
      "Prime numbers\n",
      "197\n",
      "Prime numbers\n",
      "199\n"
     ]
    }
   ],
   "source": [
    "for i in range(1,200):\n",
    "    if i%2 !=0:\n",
    "        print(i)\n",
    "    else:\n",
    "        print(\"Prime numbers\")\n",
    "    "
   ]
  },
  {
   "cell_type": "code",
   "execution_count": null,
   "metadata": {},
   "outputs": [],
   "source": []
  },
  {
   "cell_type": "code",
   "execution_count": null,
   "metadata": {},
   "outputs": [],
   "source": []
  }
 ],
 "metadata": {
  "kernelspec": {
   "display_name": "Python 3",
   "language": "python",
   "name": "python3"
  },
  "language_info": {
   "codemirror_mode": {
    "name": "ipython",
    "version": 3
   },
   "file_extension": ".py",
   "mimetype": "text/x-python",
   "name": "python",
   "nbconvert_exporter": "python",
   "pygments_lexer": "ipython3",
   "version": "3.8.3"
  }
 },
 "nbformat": 4,
 "nbformat_minor": 4
}
