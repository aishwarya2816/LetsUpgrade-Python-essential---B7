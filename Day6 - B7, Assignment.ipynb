{
 "cells": [
  {
   "cell_type": "markdown",
   "metadata": {},
   "source": [
    "# For this challenge, create bank account class that has two attributes:\n",
    "\n",
    "# Ownername, Balance, Deposit and Withdrawal\n",
    "\n",
    "# As an add requirement, withdrawal may not exceed the available balance.\n",
    "\n",
    "# Instantiate your class, make several deposits and withdrawal, and test to make sure the account can't be overdrawn"
   ]
  },
  {
   "cell_type": "code",
   "execution_count": 63,
   "metadata": {},
   "outputs": [],
   "source": [
    "class bankaccount():\n",
    "    def __init__ (self,Ownername,Balance,Deposit,Withdrawal):\n",
    "        self.Ownername = Ownername\n",
    "        self.Balance   = Balance\n",
    "        self.Deposit   = Deposit\n",
    "        self.Withdrawal= Withdrawal\n",
    "    \n",
    "    def getdetails(self):\n",
    "        print(\"Ownername - \", self.Ownername)\n",
    "        print(\"Balance - \", self.Balance)\n",
    "        print(\"Deposit - \", self.Deposit)\n",
    "        print(\"Withdrawal - \", self.Withdrawal)"
   ]
  },
  {
   "cell_type": "code",
   "execution_count": 64,
   "metadata": {},
   "outputs": [],
   "source": [
    "member= bankaccount(\"Aiswarya\",5200,6900,1700)"
   ]
  },
  {
   "cell_type": "code",
   "execution_count": 65,
   "metadata": {},
   "outputs": [
    {
     "name": "stdout",
     "output_type": "stream",
     "text": [
      "Ownername -  Aiswarya\n",
      "Balance -  5200\n",
      "Deposit -  6900\n",
      "Withdrawal -  1700\n"
     ]
    }
   ],
   "source": [
    "member.getdetails()"
   ]
  },
  {
   "cell_type": "code",
   "execution_count": 66,
   "metadata": {},
   "outputs": [
    {
     "data": {
      "text/plain": [
       "'Aiswarya'"
      ]
     },
     "execution_count": 66,
     "metadata": {},
     "output_type": "execute_result"
    }
   ],
   "source": [
    "member.Ownername"
   ]
  },
  {
   "cell_type": "code",
   "execution_count": 67,
   "metadata": {},
   "outputs": [
    {
     "data": {
      "text/plain": [
       "5200"
      ]
     },
     "execution_count": 67,
     "metadata": {},
     "output_type": "execute_result"
    }
   ],
   "source": [
    "member.Balance"
   ]
  },
  {
   "cell_type": "code",
   "execution_count": 68,
   "metadata": {},
   "outputs": [
    {
     "data": {
      "text/plain": [
       "6900"
      ]
     },
     "execution_count": 68,
     "metadata": {},
     "output_type": "execute_result"
    }
   ],
   "source": [
    "member.Deposit"
   ]
  },
  {
   "cell_type": "code",
   "execution_count": 69,
   "metadata": {},
   "outputs": [
    {
     "data": {
      "text/plain": [
       "1700"
      ]
     },
     "execution_count": 69,
     "metadata": {},
     "output_type": "execute_result"
    }
   ],
   "source": [
    "member.Withdrawal"
   ]
  },
  {
   "cell_type": "markdown",
   "metadata": {},
   "source": [
    "# Make a class function for cone that has two attributes:\n",
    "\n",
    "# r = radius\n",
    "\n",
    "# h = height and two methods\n",
    "\n",
    "# volume, v = 1/3 (pi * r * h)\n",
    "\n",
    "# surface area, a =  pi * r ** 2 + pi * r * sqrt(h ** 2+r ** 2)"
   ]
  },
  {
   "cell_type": "code",
   "execution_count": null,
   "metadata": {
    "scrolled": true
   },
   "outputs": [],
   "source": []
  },
  {
   "cell_type": "code",
   "execution_count": 56,
   "metadata": {},
   "outputs": [],
   "source": [
    "from math import sqrt\n",
    "from math import pi\n",
    "\n",
    "class cone():\n",
    "    def __init__(self,radius,height,volume,surface):\n",
    "        self.radius = radius\n",
    "        self.height = height\n",
    "        self.volume = volume\n",
    "        self.surface = surface\n",
    "        \n",
    "    def getdetails(self):\n",
    "        print(\"radius - \",self.radius)\n",
    "        print(\"height - \",self.height)\n",
    "        print(\"volume - \",self.volume)\n",
    "        print(\"surface - \",self.surface)\n",
    "        "
   ]
  },
  {
   "cell_type": "code",
   "execution_count": 57,
   "metadata": {},
   "outputs": [],
   "source": [
    "radius = r=0\n",
    "height = h=0\n",
    "volume = 1/3 *pi * r * h\n",
    "surface = pi * r ** 2 + pi * r * sqrt(h ** 2+r ** 2)"
   ]
  },
  {
   "cell_type": "code",
   "execution_count": 58,
   "metadata": {},
   "outputs": [],
   "source": [
    "function = cone(\"r\",\"h\",\"1/3 *pi * r * h\",\"pi * r ** 2 + pi * r * sqrt(h ** 2+r ** 2)\")"
   ]
  },
  {
   "cell_type": "code",
   "execution_count": 59,
   "metadata": {},
   "outputs": [
    {
     "name": "stdout",
     "output_type": "stream",
     "text": [
      "radius -  r\n",
      "height -  h\n",
      "volume -  1/3 *pi * r * h\n",
      "surface -  pi * r ** 2 + pi * r * sqrt(h ** 2+r ** 2)\n"
     ]
    }
   ],
   "source": [
    "function.getdetails()"
   ]
  },
  {
   "cell_type": "code",
   "execution_count": 70,
   "metadata": {},
   "outputs": [
    {
     "data": {
      "text/plain": [
       "'pi * r ** 2 + pi * r * sqrt(h ** 2+r ** 2)'"
      ]
     },
     "execution_count": 70,
     "metadata": {},
     "output_type": "execute_result"
    }
   ],
   "source": [
    "function.surface"
   ]
  },
  {
   "cell_type": "code",
   "execution_count": 71,
   "metadata": {},
   "outputs": [
    {
     "data": {
      "text/plain": [
       "'1/3 *pi * r * h'"
      ]
     },
     "execution_count": 71,
     "metadata": {},
     "output_type": "execute_result"
    }
   ],
   "source": [
    "function.volume"
   ]
  },
  {
   "cell_type": "code",
   "execution_count": null,
   "metadata": {},
   "outputs": [],
   "source": []
  }
 ],
 "metadata": {
  "kernelspec": {
   "display_name": "Python 3",
   "language": "python",
   "name": "python3"
  },
  "language_info": {
   "codemirror_mode": {
    "name": "ipython",
    "version": 3
   },
   "file_extension": ".py",
   "mimetype": "text/x-python",
   "name": "python",
   "nbconvert_exporter": "python",
   "pygments_lexer": "ipython3",
   "version": "3.8.3"
  }
 },
 "nbformat": 4,
 "nbformat_minor": 4
}
